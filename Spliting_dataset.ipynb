{
 "cells": [
  {
   "cell_type": "markdown",
   "metadata": {},
   "source": [
    "#### Data Spliting\n",
    "Here we will do operation only on february data, the data source is mentioned in readme.md\n",
    "\n",
    "we need basically two dataset (source and destination) form this single dataset with all the necessary columns\n",
    "\n",
    "then each dataset will be merged with airport.csv based on primary key( for source data its source column, and for destination data its destination column) data that we can convert source (that is a code for airport name) into real name and also get the city and country name\n",
    "\n",
    "doing splitting other month data also can be done with the same code, only change will be the reading different csv file\n",
    "\n",
    "for convinience I will upload the csv file on my drive (as on github more than 100 MB cannot be uploaded)"
   ]
  },
  {
   "cell_type": "code",
   "execution_count": 1,
   "metadata": {},
   "outputs": [],
   "source": [
    "import pandas as pd\n",
    "import time"
   ]
  },
  {
   "cell_type": "code",
   "execution_count": 2,
   "metadata": {},
   "outputs": [
    {
     "name": "stdout",
     "output_type": "stream",
     "text": [
      "Wall time: 5.46 s\n"
     ]
    }
   ],
   "source": [
    "%%time\n",
    "data = pd.DataFrame(pd.read_csv(\"feb.csv\"))\n"
   ]
  },
  {
   "cell_type": "code",
   "execution_count": 3,
   "metadata": {
    "scrolled": true
   },
   "outputs": [
    {
     "data": {
      "text/html": [
       "<div>\n",
       "<style scoped>\n",
       "    .dataframe tbody tr th:only-of-type {\n",
       "        vertical-align: middle;\n",
       "    }\n",
       "\n",
       "    .dataframe tbody tr th {\n",
       "        vertical-align: top;\n",
       "    }\n",
       "\n",
       "    .dataframe thead th {\n",
       "        text-align: right;\n",
       "    }\n",
       "</style>\n",
       "<table border=\"1\" class=\"dataframe\">\n",
       "  <thead>\n",
       "    <tr style=\"text-align: right;\">\n",
       "      <th></th>\n",
       "      <th>callsign</th>\n",
       "      <th>number</th>\n",
       "      <th>icao24</th>\n",
       "      <th>registration</th>\n",
       "      <th>typecode</th>\n",
       "      <th>origin</th>\n",
       "      <th>destination</th>\n",
       "      <th>firstseen</th>\n",
       "      <th>lastseen</th>\n",
       "      <th>day</th>\n",
       "      <th>latitude_1</th>\n",
       "      <th>longitude_1</th>\n",
       "      <th>altitude_1</th>\n",
       "      <th>latitude_2</th>\n",
       "      <th>longitude_2</th>\n",
       "      <th>altitude_2</th>\n",
       "    </tr>\n",
       "  </thead>\n",
       "  <tbody>\n",
       "    <tr>\n",
       "      <th>0</th>\n",
       "      <td>CSN495</td>\n",
       "      <td>CZ495</td>\n",
       "      <td>781941</td>\n",
       "      <td>NaN</td>\n",
       "      <td>NaN</td>\n",
       "      <td>KLAX</td>\n",
       "      <td>EHAM</td>\n",
       "      <td>2021-01-31 00:05:56+00:00</td>\n",
       "      <td>2021-02-01 05:51:26+00:00</td>\n",
       "      <td>2021-02-01 00:00:00+00:00</td>\n",
       "      <td>33.933792</td>\n",
       "      <td>-118.417427</td>\n",
       "      <td>0.0</td>\n",
       "      <td>52.290779</td>\n",
       "      <td>4.741464</td>\n",
       "      <td>160.02</td>\n",
       "    </tr>\n",
       "    <tr>\n",
       "      <th>1</th>\n",
       "      <td>ABW713</td>\n",
       "      <td>NaN</td>\n",
       "      <td>424467</td>\n",
       "      <td>NaN</td>\n",
       "      <td>NaN</td>\n",
       "      <td>UUEE</td>\n",
       "      <td>LEZG</td>\n",
       "      <td>2021-01-31 01:02:37+00:00</td>\n",
       "      <td>2021-02-01 05:39:24+00:00</td>\n",
       "      <td>2021-02-01 00:00:00+00:00</td>\n",
       "      <td>55.958267</td>\n",
       "      <td>37.343445</td>\n",
       "      <td>914.4</td>\n",
       "      <td>41.660901</td>\n",
       "      <td>-1.021026</td>\n",
       "      <td>266.70</td>\n",
       "    </tr>\n",
       "    <tr>\n",
       "      <th>2</th>\n",
       "      <td>AZV536</td>\n",
       "      <td>NaN</td>\n",
       "      <td>42445d</td>\n",
       "      <td>NaN</td>\n",
       "      <td>NaN</td>\n",
       "      <td>UUWW</td>\n",
       "      <td>UUWW</td>\n",
       "      <td>2021-01-31 02:40:13+00:00</td>\n",
       "      <td>2021-02-01 08:12:46+00:00</td>\n",
       "      <td>2021-02-01 00:00:00+00:00</td>\n",
       "      <td>55.605670</td>\n",
       "      <td>37.326736</td>\n",
       "      <td>609.6</td>\n",
       "      <td>55.656459</td>\n",
       "      <td>37.311115</td>\n",
       "      <td>556.26</td>\n",
       "    </tr>\n",
       "    <tr>\n",
       "      <th>3</th>\n",
       "      <td>CKS538</td>\n",
       "      <td>K4538</td>\n",
       "      <td>a96b14</td>\n",
       "      <td>N706CK</td>\n",
       "      <td>B744</td>\n",
       "      <td>KMIA</td>\n",
       "      <td>KMIA</td>\n",
       "      <td>2021-01-31 03:26:47+00:00</td>\n",
       "      <td>2021-02-01 01:19:19+00:00</td>\n",
       "      <td>2021-02-01 00:00:00+00:00</td>\n",
       "      <td>25.788124</td>\n",
       "      <td>-80.269274</td>\n",
       "      <td>0.0</td>\n",
       "      <td>25.785285</td>\n",
       "      <td>-80.333690</td>\n",
       "      <td>11155.68</td>\n",
       "    </tr>\n",
       "    <tr>\n",
       "      <th>4</th>\n",
       "      <td>LCO1100</td>\n",
       "      <td>UC1100</td>\n",
       "      <td>a6cf20</td>\n",
       "      <td>N538LA</td>\n",
       "      <td>NaN</td>\n",
       "      <td>KMIA</td>\n",
       "      <td>KMIA</td>\n",
       "      <td>2021-01-31 04:06:06+00:00</td>\n",
       "      <td>2021-02-01 03:55:40+00:00</td>\n",
       "      <td>2021-02-01 00:00:00+00:00</td>\n",
       "      <td>25.787566</td>\n",
       "      <td>-80.275493</td>\n",
       "      <td>0.0</td>\n",
       "      <td>25.785424</td>\n",
       "      <td>-80.330114</td>\n",
       "      <td>106.68</td>\n",
       "    </tr>\n",
       "  </tbody>\n",
       "</table>\n",
       "</div>"
      ],
      "text/plain": [
       "  callsign  number  icao24 registration typecode origin destination  \\\n",
       "0   CSN495   CZ495  781941          NaN      NaN   KLAX        EHAM   \n",
       "1   ABW713     NaN  424467          NaN      NaN   UUEE        LEZG   \n",
       "2   AZV536     NaN  42445d          NaN      NaN   UUWW        UUWW   \n",
       "3   CKS538   K4538  a96b14       N706CK     B744   KMIA        KMIA   \n",
       "4  LCO1100  UC1100  a6cf20       N538LA      NaN   KMIA        KMIA   \n",
       "\n",
       "                   firstseen                   lastseen  \\\n",
       "0  2021-01-31 00:05:56+00:00  2021-02-01 05:51:26+00:00   \n",
       "1  2021-01-31 01:02:37+00:00  2021-02-01 05:39:24+00:00   \n",
       "2  2021-01-31 02:40:13+00:00  2021-02-01 08:12:46+00:00   \n",
       "3  2021-01-31 03:26:47+00:00  2021-02-01 01:19:19+00:00   \n",
       "4  2021-01-31 04:06:06+00:00  2021-02-01 03:55:40+00:00   \n",
       "\n",
       "                         day  latitude_1  longitude_1  altitude_1  latitude_2  \\\n",
       "0  2021-02-01 00:00:00+00:00   33.933792  -118.417427         0.0   52.290779   \n",
       "1  2021-02-01 00:00:00+00:00   55.958267    37.343445       914.4   41.660901   \n",
       "2  2021-02-01 00:00:00+00:00   55.605670    37.326736       609.6   55.656459   \n",
       "3  2021-02-01 00:00:00+00:00   25.788124   -80.269274         0.0   25.785285   \n",
       "4  2021-02-01 00:00:00+00:00   25.787566   -80.275493         0.0   25.785424   \n",
       "\n",
       "   longitude_2  altitude_2  \n",
       "0     4.741464      160.02  \n",
       "1    -1.021026      266.70  \n",
       "2    37.311115      556.26  \n",
       "3   -80.333690    11155.68  \n",
       "4   -80.330114      106.68  "
      ]
     },
     "execution_count": 3,
     "metadata": {},
     "output_type": "execute_result"
    }
   ],
   "source": [
    "data.head()"
   ]
  },
  {
   "cell_type": "code",
   "execution_count": 4,
   "metadata": {},
   "outputs": [
    {
     "data": {
      "text/plain": [
       "(1617845, 16)"
      ]
     },
     "execution_count": 4,
     "metadata": {},
     "output_type": "execute_result"
    }
   ],
   "source": [
    "data.shape"
   ]
  },
  {
   "cell_type": "code",
   "execution_count": 5,
   "metadata": {},
   "outputs": [
    {
     "data": {
      "text/plain": [
       "Index(['callsign', 'number', 'icao24', 'registration', 'typecode', 'origin',\n",
       "       'destination', 'firstseen', 'lastseen', 'day', 'latitude_1',\n",
       "       'longitude_1', 'altitude_1', 'latitude_2', 'longitude_2', 'altitude_2'],\n",
       "      dtype='object')"
      ]
     },
     "execution_count": 5,
     "metadata": {},
     "output_type": "execute_result"
    }
   ],
   "source": [
    "data.columns"
   ]
  },
  {
   "cell_type": "markdown",
   "metadata": {},
   "source": [
    "#### Removing hour, minute etc from day columns"
   ]
  },
  {
   "cell_type": "code",
   "execution_count": 11,
   "metadata": {},
   "outputs": [],
   "source": [
    "def date_format(x):\n",
    "    return x.split()[0]"
   ]
  },
  {
   "cell_type": "code",
   "execution_count": 12,
   "metadata": {},
   "outputs": [
    {
     "name": "stdout",
     "output_type": "stream",
     "text": [
      "Wall time: 524 ms\n"
     ]
    },
    {
     "data": {
      "text/html": [
       "<div>\n",
       "<style scoped>\n",
       "    .dataframe tbody tr th:only-of-type {\n",
       "        vertical-align: middle;\n",
       "    }\n",
       "\n",
       "    .dataframe tbody tr th {\n",
       "        vertical-align: top;\n",
       "    }\n",
       "\n",
       "    .dataframe thead th {\n",
       "        text-align: right;\n",
       "    }\n",
       "</style>\n",
       "<table border=\"1\" class=\"dataframe\">\n",
       "  <thead>\n",
       "    <tr style=\"text-align: right;\">\n",
       "      <th></th>\n",
       "      <th>callsign</th>\n",
       "      <th>number</th>\n",
       "      <th>icao24</th>\n",
       "      <th>registration</th>\n",
       "      <th>typecode</th>\n",
       "      <th>origin</th>\n",
       "      <th>destination</th>\n",
       "      <th>firstseen</th>\n",
       "      <th>lastseen</th>\n",
       "      <th>day</th>\n",
       "      <th>latitude_1</th>\n",
       "      <th>longitude_1</th>\n",
       "      <th>altitude_1</th>\n",
       "      <th>latitude_2</th>\n",
       "      <th>longitude_2</th>\n",
       "      <th>altitude_2</th>\n",
       "    </tr>\n",
       "  </thead>\n",
       "  <tbody>\n",
       "    <tr>\n",
       "      <th>0</th>\n",
       "      <td>CSN495</td>\n",
       "      <td>CZ495</td>\n",
       "      <td>781941</td>\n",
       "      <td>NaN</td>\n",
       "      <td>NaN</td>\n",
       "      <td>KLAX</td>\n",
       "      <td>EHAM</td>\n",
       "      <td>2021-01-31 00:05:56+00:00</td>\n",
       "      <td>2021-02-01 05:51:26+00:00</td>\n",
       "      <td>2021-02-01</td>\n",
       "      <td>33.933792</td>\n",
       "      <td>-118.417427</td>\n",
       "      <td>0.0</td>\n",
       "      <td>52.290779</td>\n",
       "      <td>4.741464</td>\n",
       "      <td>160.02</td>\n",
       "    </tr>\n",
       "    <tr>\n",
       "      <th>1</th>\n",
       "      <td>ABW713</td>\n",
       "      <td>NaN</td>\n",
       "      <td>424467</td>\n",
       "      <td>NaN</td>\n",
       "      <td>NaN</td>\n",
       "      <td>UUEE</td>\n",
       "      <td>LEZG</td>\n",
       "      <td>2021-01-31 01:02:37+00:00</td>\n",
       "      <td>2021-02-01 05:39:24+00:00</td>\n",
       "      <td>2021-02-01</td>\n",
       "      <td>55.958267</td>\n",
       "      <td>37.343445</td>\n",
       "      <td>914.4</td>\n",
       "      <td>41.660901</td>\n",
       "      <td>-1.021026</td>\n",
       "      <td>266.70</td>\n",
       "    </tr>\n",
       "    <tr>\n",
       "      <th>2</th>\n",
       "      <td>AZV536</td>\n",
       "      <td>NaN</td>\n",
       "      <td>42445d</td>\n",
       "      <td>NaN</td>\n",
       "      <td>NaN</td>\n",
       "      <td>UUWW</td>\n",
       "      <td>UUWW</td>\n",
       "      <td>2021-01-31 02:40:13+00:00</td>\n",
       "      <td>2021-02-01 08:12:46+00:00</td>\n",
       "      <td>2021-02-01</td>\n",
       "      <td>55.605670</td>\n",
       "      <td>37.326736</td>\n",
       "      <td>609.6</td>\n",
       "      <td>55.656459</td>\n",
       "      <td>37.311115</td>\n",
       "      <td>556.26</td>\n",
       "    </tr>\n",
       "    <tr>\n",
       "      <th>3</th>\n",
       "      <td>CKS538</td>\n",
       "      <td>K4538</td>\n",
       "      <td>a96b14</td>\n",
       "      <td>N706CK</td>\n",
       "      <td>B744</td>\n",
       "      <td>KMIA</td>\n",
       "      <td>KMIA</td>\n",
       "      <td>2021-01-31 03:26:47+00:00</td>\n",
       "      <td>2021-02-01 01:19:19+00:00</td>\n",
       "      <td>2021-02-01</td>\n",
       "      <td>25.788124</td>\n",
       "      <td>-80.269274</td>\n",
       "      <td>0.0</td>\n",
       "      <td>25.785285</td>\n",
       "      <td>-80.333690</td>\n",
       "      <td>11155.68</td>\n",
       "    </tr>\n",
       "    <tr>\n",
       "      <th>4</th>\n",
       "      <td>LCO1100</td>\n",
       "      <td>UC1100</td>\n",
       "      <td>a6cf20</td>\n",
       "      <td>N538LA</td>\n",
       "      <td>NaN</td>\n",
       "      <td>KMIA</td>\n",
       "      <td>KMIA</td>\n",
       "      <td>2021-01-31 04:06:06+00:00</td>\n",
       "      <td>2021-02-01 03:55:40+00:00</td>\n",
       "      <td>2021-02-01</td>\n",
       "      <td>25.787566</td>\n",
       "      <td>-80.275493</td>\n",
       "      <td>0.0</td>\n",
       "      <td>25.785424</td>\n",
       "      <td>-80.330114</td>\n",
       "      <td>106.68</td>\n",
       "    </tr>\n",
       "  </tbody>\n",
       "</table>\n",
       "</div>"
      ],
      "text/plain": [
       "  callsign  number  icao24 registration typecode origin destination  \\\n",
       "0   CSN495   CZ495  781941          NaN      NaN   KLAX        EHAM   \n",
       "1   ABW713     NaN  424467          NaN      NaN   UUEE        LEZG   \n",
       "2   AZV536     NaN  42445d          NaN      NaN   UUWW        UUWW   \n",
       "3   CKS538   K4538  a96b14       N706CK     B744   KMIA        KMIA   \n",
       "4  LCO1100  UC1100  a6cf20       N538LA      NaN   KMIA        KMIA   \n",
       "\n",
       "                   firstseen                   lastseen         day  \\\n",
       "0  2021-01-31 00:05:56+00:00  2021-02-01 05:51:26+00:00  2021-02-01   \n",
       "1  2021-01-31 01:02:37+00:00  2021-02-01 05:39:24+00:00  2021-02-01   \n",
       "2  2021-01-31 02:40:13+00:00  2021-02-01 08:12:46+00:00  2021-02-01   \n",
       "3  2021-01-31 03:26:47+00:00  2021-02-01 01:19:19+00:00  2021-02-01   \n",
       "4  2021-01-31 04:06:06+00:00  2021-02-01 03:55:40+00:00  2021-02-01   \n",
       "\n",
       "   latitude_1  longitude_1  altitude_1  latitude_2  longitude_2  altitude_2  \n",
       "0   33.933792  -118.417427         0.0   52.290779     4.741464      160.02  \n",
       "1   55.958267    37.343445       914.4   41.660901    -1.021026      266.70  \n",
       "2   55.605670    37.326736       609.6   55.656459    37.311115      556.26  \n",
       "3   25.788124   -80.269274         0.0   25.785285   -80.333690    11155.68  \n",
       "4   25.787566   -80.275493         0.0   25.785424   -80.330114      106.68  "
      ]
     },
     "execution_count": 12,
     "metadata": {},
     "output_type": "execute_result"
    }
   ],
   "source": [
    "%%time\n",
    "data[\"day\"] = data[\"day\"].apply(date_format)\n",
    "data.head()"
   ]
  },
  {
   "cell_type": "code",
   "execution_count": 13,
   "metadata": {},
   "outputs": [
    {
     "name": "stdout",
     "output_type": "stream",
     "text": [
      "Wall time: 165 ms\n"
     ]
    }
   ],
   "source": [
    "%%time\n",
    "datas = data[[ 'origin','day', 'latitude_1', 'longitude_1']]\n",
    "datad = data[['destination', 'day', 'latitude_2', 'longitude_2']]\n",
    "\n",
    "#keeping only necessary columns "
   ]
  },
  {
   "cell_type": "code",
   "execution_count": 14,
   "metadata": {},
   "outputs": [
    {
     "name": "stdout",
     "output_type": "stream",
     "text": [
      "Wall time: 15.3 s\n"
     ]
    }
   ],
   "source": [
    "%%time\n",
    "datas.to_csv(\"source.csv\", index = False)\n",
    "datad.to_csv(\"destination.csv\", index = False)\n",
    "\n",
    "#saving the data to a csv file and index = False so that it not create any columns based on row number"
   ]
  },
  {
   "cell_type": "markdown",
   "metadata": {},
   "source": [
    "#### After spliting the data the source and destination data is uploaded on google drive \n",
    "https://drive.google.com/drive/folders/1KkoWX4BcvkwGCH7oR0L938qnIaNTba1l?usp=sharing\n",
    "\n",
    "For providing the data the credits goes to opensky Network[1], Xavier Olive[2] and OpenFlights[3]"
   ]
  },
  {
   "cell_type": "markdown",
   "metadata": {},
   "source": [
    "Reference\n",
    "- [1] Matthias Schäfer, Martin Strohmeier, Vincent Lenders, Ivan Martinovic and Matthias Wilhelm.\n",
    "\"Bringing Up OpenSky: A Large-scale ADS-B Sensor Network for Research\".\n",
    "In Proceedings of the 13th IEEE/ACM International Symposium on Information Processing in Sensor Networks (IPSN), pages 83-94, April 2014.\n",
    "\n",
    "- [2] \"traffic, a toolbox for processing and analysing air traffic data.\"\n",
    "Journal of Open Source Software 4(39), July 2019.\n",
    "\n",
    "- [3] https://openflights.org/data.html"
   ]
  },
  {
   "cell_type": "code",
   "execution_count": null,
   "metadata": {},
   "outputs": [],
   "source": []
  }
 ],
 "metadata": {
  "kernelspec": {
   "display_name": "Python 3",
   "language": "python",
   "name": "python3"
  },
  "language_info": {
   "codemirror_mode": {
    "name": "ipython",
    "version": 3
   },
   "file_extension": ".py",
   "mimetype": "text/x-python",
   "name": "python",
   "nbconvert_exporter": "python",
   "pygments_lexer": "ipython3",
   "version": "3.8.3"
  }
 },
 "nbformat": 4,
 "nbformat_minor": 4
}
